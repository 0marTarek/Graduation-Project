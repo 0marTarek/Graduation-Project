{
 "cells": [
  {
   "cell_type": "code",
   "execution_count": 1,
   "metadata": {
    "scrolled": true
   },
   "outputs": [],
   "source": [
    "import numpy as np # linear algebra\n",
    "import pandas as pd # data processing, CSV file I/O (e.g. pd.read_csv)\n",
    "import skimage, os\n",
    "from skimage.morphology import ball, disk, dilation, binary_erosion, remove_small_objects, erosion, closing, reconstruction, binary_closing\n",
    "from skimage.measure import label,regionprops, perimeter\n",
    "from skimage.morphology import binary_dilation, binary_opening\n",
    "from skimage.filters import roberts, sobel\n",
    "from skimage import measure, feature\n",
    "from skimage.segmentation import clear_border\n",
    "from skimage import data\n",
    "from scipy import ndimage as ndi\n",
    "import matplotlib.pyplot as plt\n",
    "from mpl_toolkits.mplot3d.art3d import Poly3DCollection\n",
    "import pydicom\n",
    "import scipy.misc\n",
    "import numpy as np\n",
    "from sklearn.model_selection import train_test_split\n",
    "from collections import Counter\n",
    "from glob import glob\n",
    "from tensorflow.keras.models import Sequential\n",
    "from tensorflow.keras.layers import Conv2D\n",
    "from tensorflow.keras.layers import MaxPooling2D\n",
    "from tensorflow.keras.layers import Flatten\n",
    "from tensorflow import keras\n",
    "from tensorflow.keras.layers import Dense\n",
    "from tensorflow.keras.layers import Dropout\n",
    "from sklearn.model_selection import train_test_split\n",
    "from sklearn.preprocessing import LabelEncoder\n",
    "from sklearn import svm, metrics\n",
    "from sklearn import metrics\n",
    "import pandas as pd\n",
    "import numpy as np\n",
    "import seaborn as sns\n",
    "import tensorflow as tf\n",
    "import tensorflow as tf\n",
    "from sklearn import datasets\n",
    "from tensorflow.python.framework import ops"
   ]
  },
  {
   "cell_type": "code",
   "execution_count": 2,
   "metadata": {},
   "outputs": [],
   "source": [
    "#path=\"C:\\\\Users\\\\Omar-ElQady\\\\dicom\\C\\\\\"\n",
    "\n"
   ]
  },
  {
   "cell_type": "code",
   "execution_count": 3,
   "metadata": {},
   "outputs": [],
   "source": [
    "A=glob('C:\\\\Users\\\\Omar-ElQady\\\\output\\\\A\\\\*.jpg')\n",
    "B=glob('C:\\\\Users\\\\Omar-ElQady\\\\output\\\\B\\\\*.jpg')\n",
    "C=glob('C:\\\\Users\\\\Omar-ElQady\\\\output\\\\D\\\\*.jpg')"
   ]
  },
  {
   "cell_type": "code",
   "execution_count": 4,
   "metadata": {},
   "outputs": [
    {
     "name": "stdout",
     "output_type": "stream",
     "text": [
      "the type of infected is <class 'list'>, with length 131\n",
      "the type of infected is <class 'list'>, with length 121\n",
      "the type of infected is <class 'list'>, with length 60\n"
     ]
    }
   ],
   "source": [
    "print(\"the type of infected is {}, with length {}\".format(type(A), len(A)))\n",
    "print(\"the type of infected is {}, with length {}\".format(type(B), len(B)))\n",
    "print(\"the type of infected is {}, with length {}\".format(type(C), len(C)))"
   ]
  },
  {
   "cell_type": "code",
   "execution_count": 5,
   "metadata": {},
   "outputs": [
    {
     "name": "stdout",
     "output_type": "stream",
     "text": [
      "<class 'pandas.core.frame.DataFrame'>\n",
      "RangeIndex: 312 entries, 0 to 311\n",
      "Data columns (total 2 columns):\n",
      " #   Column  Non-Null Count  Dtype \n",
      "---  ------  --------------  ----- \n",
      " 0   File    312 non-null    object\n",
      " 1   Label   312 non-null    object\n",
      "dtypes: object(2)\n",
      "memory usage: 5.0+ KB\n"
     ]
    },
    {
     "data": {
      "text/html": [
       "<div>\n",
       "<style scoped>\n",
       "    .dataframe tbody tr th:only-of-type {\n",
       "        vertical-align: middle;\n",
       "    }\n",
       "\n",
       "    .dataframe tbody tr th {\n",
       "        vertical-align: top;\n",
       "    }\n",
       "\n",
       "    .dataframe thead th {\n",
       "        text-align: right;\n",
       "    }\n",
       "</style>\n",
       "<table border=\"1\" class=\"dataframe\">\n",
       "  <thead>\n",
       "    <tr style=\"text-align: right;\">\n",
       "      <th></th>\n",
       "      <th>File</th>\n",
       "      <th>Label</th>\n",
       "    </tr>\n",
       "  </thead>\n",
       "  <tbody>\n",
       "    <tr>\n",
       "      <th>0</th>\n",
       "      <td>C:\\Users\\Omar-ElQady\\output\\A\\A115224137.jpg</td>\n",
       "      <td>A</td>\n",
       "    </tr>\n",
       "    <tr>\n",
       "      <th>1</th>\n",
       "      <td>C:\\Users\\Omar-ElQady\\output\\A\\A120469117.jpg</td>\n",
       "      <td>A</td>\n",
       "    </tr>\n",
       "    <tr>\n",
       "      <th>2</th>\n",
       "      <td>C:\\Users\\Omar-ElQady\\output\\A\\A125793270.jpg</td>\n",
       "      <td>A</td>\n",
       "    </tr>\n",
       "    <tr>\n",
       "      <th>3</th>\n",
       "      <td>C:\\Users\\Omar-ElQady\\output\\A\\A12631584.jpg</td>\n",
       "      <td>A</td>\n",
       "    </tr>\n",
       "    <tr>\n",
       "      <th>4</th>\n",
       "      <td>C:\\Users\\Omar-ElQady\\output\\A\\A136583831.jpg</td>\n",
       "      <td>A</td>\n",
       "    </tr>\n",
       "  </tbody>\n",
       "</table>\n",
       "</div>"
      ],
      "text/plain": [
       "                                           File Label\n",
       "0  C:\\Users\\Omar-ElQady\\output\\A\\A115224137.jpg     A\n",
       "1  C:\\Users\\Omar-ElQady\\output\\A\\A120469117.jpg     A\n",
       "2  C:\\Users\\Omar-ElQady\\output\\A\\A125793270.jpg     A\n",
       "3   C:\\Users\\Omar-ElQady\\output\\A\\A12631584.jpg     A\n",
       "4  C:\\Users\\Omar-ElQady\\output\\A\\A136583831.jpg     A"
      ]
     },
     "execution_count": 5,
     "metadata": {},
     "output_type": "execute_result"
    }
   ],
   "source": [
    "#defining the dataframe for the dataset\n",
    "all_Data =[]\n",
    "all_Data_labels = []\n",
    "for i in range(len(A)):\n",
    "  all_Data_labels.append('A')\n",
    "\n",
    "for i in range(len(B)):\n",
    "  all_Data_labels.append('B')\n",
    "\n",
    "for i in range(len(C)):\n",
    "  all_Data_labels.append('C')\n",
    "\n",
    "all_Data = A + B + C\n",
    "\n",
    "images_DataFrame = pd.DataFrame({\n",
    "    \"File\": all_Data,\n",
    "   \"Label\": all_Data_labels\n",
    "})\n",
    "\n",
    "images_DataFrame.info();\n",
    "images_DataFrame.head()"
   ]
  },
  {
   "cell_type": "code",
   "execution_count": 6,
   "metadata": {},
   "outputs": [
    {
     "name": "stdout",
     "output_type": "stream",
     "text": [
      "the size of train labels is  Counter({'B': 78, 'A': 78, 'C': 40})\n",
      "the size of test labels is  Counter({'A': 42, 'B': 38, 'C': 14})\n",
      "the size of val labels is  Counter({'A': 11, 'C': 6, 'B': 5})\n",
      "train files shape:  (196,)\n",
      "train val shape:  (22,)\n",
      "train test shape:  (94,)\n"
     ]
    }
   ],
   "source": [
    "#spliting the data for training, testing and validation.\n",
    "X_train, X_test, y_train, y_test = train_test_split(images_DataFrame['File'].values, \n",
    "                                                                      images_DataFrame['Label'].values,\n",
    "                                                                      test_size=0.3,random_state=42 )\n",
    "\n",
    "X_train, validation_data, y_train, validation_labels = train_test_split(X_train, y_train, test_size=0.1, random_state=42)\n",
    "\n",
    "#print(\"the size of train files is \", Counter(X-trian))\n",
    "print(\"the size of train labels is \", Counter(y_train))\n",
    "print(\"the size of test labels is \", Counter(y_test))\n",
    "print(\"the size of val labels is \", Counter(validation_labels))\n",
    "\n",
    "print(\"train files shape: \",X_train.shape)\n",
    "print(\"train val shape: \",validation_data.shape)\n",
    "print(\"train test shape: \",X_test.shape)"
   ]
  },
  {
   "cell_type": "code",
   "execution_count": 7,
   "metadata": {},
   "outputs": [
    {
     "name": "stdout",
     "output_type": "stream",
     "text": [
      "done\n",
      "the validation data shape is  (22, 125, 125, 3)\n"
     ]
    }
   ],
   "source": [
    "import cv2\n",
    "\n",
    "#reshaping validation data\n",
    "temp =[]\n",
    "for img in validation_data:\n",
    "    img = cv2.imread(img)\n",
    "    img = cv2.resize(img, dsize=(125,125))\n",
    "    img = np.array(img, dtype=np.float32)\n",
    "    temp.append(img)\n",
    "    \n",
    "validation_data = np.array(list(temp))\n",
    "\n",
    "print(\"done\")\n",
    "print(\"the validation data shape is \", validation_data.shape)"
   ]
  },
  {
   "cell_type": "code",
   "execution_count": 8,
   "metadata": {},
   "outputs": [
    {
     "name": "stdout",
     "output_type": "stream",
     "text": [
      "Done\n",
      "test Data Shape is  (94, 125, 125, 3)\n"
     ]
    }
   ],
   "source": [
    "#reshaping testing data\n",
    "temp=[]\n",
    "for img in X_test:\n",
    "    img = cv2.imread(img)\n",
    "    img = cv2.resize(img, dsize=(125,125))\n",
    "    img = np.array(img, dtype=np.float32)\n",
    "    temp.append(img)\n",
    "testing_data = np.array(list(temp))\n",
    "print(\"Done\")\n",
    "print(\"test Data Shape is \", testing_data.shape)"
   ]
  },
  {
   "cell_type": "code",
   "execution_count": 9,
   "metadata": {},
   "outputs": [
    {
     "name": "stdout",
     "output_type": "stream",
     "text": [
      "Done\n",
      "Training Data Shape is  (196, 125, 125, 3)\n"
     ]
    }
   ],
   "source": [
    "#resizing the training data\n",
    "temp=[]\n",
    "for img in X_train:\n",
    "    img = cv2.imread(img);\n",
    "    img = cv2.resize(img, dsize=(125,125))\n",
    "    img = np.array(img, dtype=np.float32)\n",
    "    temp.append(img)\n",
    "    \n",
    "\n",
    "training_data = np.array(list(temp))\n",
    "print(\"Done\")\n",
    "print(\"Training Data Shape is \", training_data.shape)\n"
   ]
  },
  {
   "cell_type": "code",
   "execution_count": 10,
   "metadata": {},
   "outputs": [
    {
     "data": {
      "image/png": "[encoded data removed]",
      "text/plain": [
       "<Figure size 648x648 with 12 Axes>"
      ]
     },
     "metadata": {
      "needs_background": "light"
     },
     "output_type": "display_data"
    }
   ],
   "source": [
    "#view sample of the cell images data.\n",
    "plt.figure(figsize = (9,9))\n",
    "number = 0\n",
    "for counter in range(12):\n",
    "    number += 1\n",
    "    r = np.random.randint(0 , 30 , 1)\n",
    "    plt.subplot(4 , 5 ,number)\n",
    "    plt.imshow(training_data[r[0]]/255)\n",
    "    plt.title('{}'.format(y_train[r[0]]))"
   ]
  },
  {
   "cell_type": "code",
   "execution_count": 11,
   "metadata": {
    "scrolled": true
   },
   "outputs": [
    {
     "name": "stdout",
     "output_type": "stream",
     "text": [
      "(22, 125, 125, 3)\n",
      "[[ 0.  0.  0.]\n",
      " [ 0.  0.  0.]\n",
      " [ 0.  0.  0.]\n",
      " [ 0.  0.  0.]\n",
      " [ 0.  0.  0.]\n",
      " [ 0.  0.  0.]\n",
      " [ 0.  0.  0.]\n",
      " [ 0.  0.  0.]\n",
      " [ 0.  0.  0.]\n",
      " [ 0.  0.  0.]\n",
      " [ 0.  0.  0.]\n",
      " [ 0.  0.  0.]\n",
      " [ 0.  0.  0.]\n",
      " [ 0.  0.  0.]\n",
      " [ 0.  0.  0.]\n",
      " [ 0.  0.  0.]\n",
      " [ 0.  0.  0.]\n",
      " [ 0.  0.  0.]\n",
      " [ 0.  0.  0.]\n",
      " [ 0.  0.  0.]\n",
      " [ 0.  0.  0.]\n",
      " [ 0.  0.  0.]\n",
      " [ 0.  0.  0.]\n",
      " [ 0.  0.  0.]\n",
      " [ 0.  0.  0.]\n",
      " [ 0.  0.  0.]\n",
      " [ 0.  0.  0.]\n",
      " [ 0.  0.  0.]\n",
      " [ 1.  1.  1.]\n",
      " [28. 28. 28.]\n",
      " [24. 24. 24.]\n",
      " [18. 18. 18.]\n",
      " [19. 19. 19.]\n",
      " [25. 25. 25.]\n",
      " [23. 23. 23.]\n",
      " [23. 23. 23.]\n",
      " [36. 36. 36.]\n",
      " [ 3.  3.  3.]\n",
      " [12. 12. 12.]\n",
      " [24. 24. 24.]\n",
      " [18. 18. 18.]\n",
      " [16. 16. 16.]\n",
      " [18. 18. 18.]\n",
      " [19. 19. 19.]\n",
      " [27. 27. 27.]\n",
      " [13. 13. 13.]\n",
      " [ 0.  0.  0.]\n",
      " [26. 26. 26.]\n",
      " [11. 11. 11.]\n",
      " [33. 33. 33.]\n",
      " [19. 19. 19.]\n",
      " [15. 15. 15.]\n",
      " [17. 17. 17.]\n",
      " [13. 13. 13.]\n",
      " [30. 30. 30.]\n",
      " [17. 17. 17.]\n",
      " [10. 10. 10.]\n",
      " [16. 16. 16.]\n",
      " [14. 14. 14.]\n",
      " [15. 15. 15.]\n",
      " [32. 32. 32.]\n",
      " [26. 26. 26.]\n",
      " [22. 22. 22.]\n",
      " [25. 25. 25.]\n",
      " [33. 33. 33.]\n",
      " [29. 29. 29.]\n",
      " [31. 31. 31.]\n",
      " [25. 25. 25.]\n",
      " [15. 15. 15.]\n",
      " [36. 36. 36.]\n",
      " [17. 17. 17.]\n",
      " [42. 42. 42.]\n",
      " [18. 18. 18.]\n",
      " [29. 29. 29.]\n",
      " [21. 21. 21.]\n",
      " [25. 25. 25.]\n",
      " [13. 13. 13.]\n",
      " [44. 44. 44.]\n",
      " [35. 35. 35.]\n",
      " [10. 10. 10.]\n",
      " [33. 33. 33.]\n",
      " [21. 21. 21.]\n",
      " [21. 21. 21.]\n",
      " [15. 15. 15.]\n",
      " [17. 17. 17.]\n",
      " [35. 35. 35.]\n",
      " [31. 31. 31.]\n",
      " [30. 30. 30.]\n",
      " [ 6.  6.  6.]\n",
      " [15. 15. 15.]\n",
      " [25. 25. 25.]\n",
      " [23. 23. 23.]\n",
      " [45. 45. 45.]\n",
      " [15. 15. 15.]\n",
      " [25. 25. 25.]\n",
      " [43. 43. 43.]\n",
      " [ 2.  2.  2.]\n",
      " [ 0.  0.  0.]\n",
      " [ 0.  0.  0.]\n",
      " [ 0.  0.  0.]\n",
      " [ 0.  0.  0.]\n",
      " [ 0.  0.  0.]\n",
      " [ 0.  0.  0.]\n",
      " [ 0.  0.  0.]\n",
      " [ 0.  0.  0.]\n",
      " [ 0.  0.  0.]\n",
      " [ 0.  0.  0.]\n",
      " [ 0.  0.  0.]\n",
      " [ 0.  0.  0.]\n",
      " [ 0.  0.  0.]\n",
      " [ 0.  0.  0.]\n",
      " [ 0.  0.  0.]\n",
      " [ 0.  0.  0.]\n",
      " [ 0.  0.  0.]\n",
      " [ 0.  0.  0.]\n",
      " [ 0.  0.  0.]\n",
      " [ 0.  0.  0.]\n",
      " [ 0.  0.  0.]\n",
      " [ 0.  0.  0.]\n",
      " [ 0.  0.  0.]\n",
      " [ 0.  0.  0.]\n",
      " [ 0.  0.  0.]\n",
      " [ 0.  0.  0.]\n",
      " [ 0.  0.  0.]\n",
      " [ 0.  0.  0.]]\n"
     ]
    }
   ],
   "source": [
    "#data before scale\n",
    "print(validation_data.shape)\n",
    "print(validation_data[0][9])"
   ]
  },
  {
   "cell_type": "code",
   "execution_count": 12,
   "metadata": {
    "scrolled": true
   },
   "outputs": [],
   "source": [
    "#divided by 255 to get number between 0 and 1.\n",
    "training_imags_divided = training_data/255\n",
    "testing_images_divided = testing_data/255\n",
    "validation_images_divided = validation_data/255\n",
    "\n",
    "#set data between 1 and 3\n",
    "#from sklearn.preprocessing import MinMaxScaler\n",
    "#scaler = MinMaxScaler(feature_range=(1,3))\n",
    "#training_imags_divided = scaler.fit_transform(training_data.reshape(-1, training_data.shape[-1])).reshape(training_data.shape)\n",
    "#testing_images_divided = scaler.transform(testing_data.reshape(-1, testing_data.shape[-1])).reshape(testing_data.shape)\n",
    "#validation_images_divided = scaler.transform(validation_data.reshape(-1, validation_data.shape[-1])).reshape(validation_data.shape)\n"
   ]
  },
  {
   "cell_type": "code",
   "execution_count": 13,
   "metadata": {
    "scrolled": true
   },
   "outputs": [
    {
     "name": "stdout",
     "output_type": "stream",
     "text": [
      "(22, 125, 125, 3)\n",
      "[[0.         0.         0.        ]\n",
      " [0.         0.         0.        ]\n",
      " [0.         0.         0.        ]\n",
      " [0.         0.         0.        ]\n",
      " [0.         0.         0.        ]\n",
      " [0.         0.         0.        ]\n",
      " [0.         0.         0.        ]\n",
      " [0.         0.         0.        ]\n",
      " [0.         0.         0.        ]\n",
      " [0.         0.         0.        ]\n",
      " [0.         0.         0.        ]\n",
      " [0.         0.         0.        ]\n",
      " [0.         0.         0.        ]\n",
      " [0.         0.         0.        ]\n",
      " [0.         0.         0.        ]\n",
      " [0.         0.         0.        ]\n",
      " [0.         0.         0.        ]\n",
      " [0.         0.         0.        ]\n",
      " [0.         0.         0.        ]\n",
      " [0.         0.         0.        ]\n",
      " [0.         0.         0.        ]\n",
      " [0.         0.         0.        ]\n",
      " [0.         0.         0.        ]\n",
      " [0.         0.         0.        ]\n",
      " [0.         0.         0.        ]\n",
      " [0.         0.         0.        ]\n",
      " [0.         0.         0.        ]\n",
      " [0.         0.         0.        ]\n",
      " [0.00392157 0.00392157 0.00392157]\n",
      " [0.10980392 0.10980392 0.10980392]\n",
      " [0.09411765 0.09411765 0.09411765]\n",
      " [0.07058824 0.07058824 0.07058824]\n",
      " [0.07450981 0.07450981 0.07450981]\n",
      " [0.09803922 0.09803922 0.09803922]\n",
      " [0.09019608 0.09019608 0.09019608]\n",
      " [0.09019608 0.09019608 0.09019608]\n",
      " [0.14117648 0.14117648 0.14117648]\n",
      " [0.01176471 0.01176471 0.01176471]\n",
      " [0.04705882 0.04705882 0.04705882]\n",
      " [0.09411765 0.09411765 0.09411765]\n",
      " [0.07058824 0.07058824 0.07058824]\n",
      " [0.0627451  0.0627451  0.0627451 ]\n",
      " [0.07058824 0.07058824 0.07058824]\n",
      " [0.07450981 0.07450981 0.07450981]\n",
      " [0.10588235 0.10588235 0.10588235]\n",
      " [0.05098039 0.05098039 0.05098039]\n",
      " [0.         0.         0.        ]\n",
      " [0.10196079 0.10196079 0.10196079]\n",
      " [0.04313726 0.04313726 0.04313726]\n",
      " [0.12941177 0.12941177 0.12941177]\n",
      " [0.07450981 0.07450981 0.07450981]\n",
      " [0.05882353 0.05882353 0.05882353]\n",
      " [0.06666667 0.06666667 0.06666667]\n",
      " [0.05098039 0.05098039 0.05098039]\n",
      " [0.11764706 0.11764706 0.11764706]\n",
      " [0.06666667 0.06666667 0.06666667]\n",
      " [0.03921569 0.03921569 0.03921569]\n",
      " [0.0627451  0.0627451  0.0627451 ]\n",
      " [0.05490196 0.05490196 0.05490196]\n",
      " [0.05882353 0.05882353 0.05882353]\n",
      " [0.1254902  0.1254902  0.1254902 ]\n",
      " [0.10196079 0.10196079 0.10196079]\n",
      " [0.08627451 0.08627451 0.08627451]\n",
      " [0.09803922 0.09803922 0.09803922]\n",
      " [0.12941177 0.12941177 0.12941177]\n",
      " [0.11372549 0.11372549 0.11372549]\n",
      " [0.12156863 0.12156863 0.12156863]\n",
      " [0.09803922 0.09803922 0.09803922]\n",
      " [0.05882353 0.05882353 0.05882353]\n",
      " [0.14117648 0.14117648 0.14117648]\n",
      " [0.06666667 0.06666667 0.06666667]\n",
      " [0.16470589 0.16470589 0.16470589]\n",
      " [0.07058824 0.07058824 0.07058824]\n",
      " [0.11372549 0.11372549 0.11372549]\n",
      " [0.08235294 0.08235294 0.08235294]\n",
      " [0.09803922 0.09803922 0.09803922]\n",
      " [0.05098039 0.05098039 0.05098039]\n",
      " [0.17254902 0.17254902 0.17254902]\n",
      " [0.13725491 0.13725491 0.13725491]\n",
      " [0.03921569 0.03921569 0.03921569]\n",
      " [0.12941177 0.12941177 0.12941177]\n",
      " [0.08235294 0.08235294 0.08235294]\n",
      " [0.08235294 0.08235294 0.08235294]\n",
      " [0.05882353 0.05882353 0.05882353]\n",
      " [0.06666667 0.06666667 0.06666667]\n",
      " [0.13725491 0.13725491 0.13725491]\n",
      " [0.12156863 0.12156863 0.12156863]\n",
      " [0.11764706 0.11764706 0.11764706]\n",
      " [0.02352941 0.02352941 0.02352941]\n",
      " [0.05882353 0.05882353 0.05882353]\n",
      " [0.09803922 0.09803922 0.09803922]\n",
      " [0.09019608 0.09019608 0.09019608]\n",
      " [0.1764706  0.1764706  0.1764706 ]\n",
      " [0.05882353 0.05882353 0.05882353]\n",
      " [0.09803922 0.09803922 0.09803922]\n",
      " [0.16862746 0.16862746 0.16862746]\n",
      " [0.00784314 0.00784314 0.00784314]\n",
      " [0.         0.         0.        ]\n",
      " [0.         0.         0.        ]\n",
      " [0.         0.         0.        ]\n",
      " [0.         0.         0.        ]\n",
      " [0.         0.         0.        ]\n",
      " [0.         0.         0.        ]\n",
      " [0.         0.         0.        ]\n",
      " [0.         0.         0.        ]\n",
      " [0.         0.         0.        ]\n",
      " [0.         0.         0.        ]\n",
      " [0.         0.         0.        ]\n",
      " [0.         0.         0.        ]\n",
      " [0.         0.         0.        ]\n",
      " [0.         0.         0.        ]\n",
      " [0.         0.         0.        ]\n",
      " [0.         0.         0.        ]\n",
      " [0.         0.         0.        ]\n",
      " [0.         0.         0.        ]\n",
      " [0.         0.         0.        ]\n",
      " [0.         0.         0.        ]\n",
      " [0.         0.         0.        ]\n",
      " [0.         0.         0.        ]\n",
      " [0.         0.         0.        ]\n",
      " [0.         0.         0.        ]\n",
      " [0.         0.         0.        ]\n",
      " [0.         0.         0.        ]\n",
      " [0.         0.         0.        ]\n",
      " [0.         0.         0.        ]]\n"
     ]
    }
   ],
   "source": [
    "print(validation_images_divided.shape)\n",
    "print(validation_images_divided[0][9])"
   ]
  },
  {
   "cell_type": "code",
   "execution_count": 14,
   "metadata": {},
   "outputs": [],
   "source": [
    "my_dict = {'A': 1, 'B': 2, 'C': 3}\n",
    "\n",
    "y_train_transformed= [my_dict[zi] for zi in y_train]\n",
    "y_train_transformed = np.array(list(y_train_transformed))\n",
    "\n",
    "y_test_transformed= [my_dict[zi] for zi in y_test]\n",
    "y_test_transformed = np.array(list(y_test_transformed))\n",
    "\n",
    "validation_labels_transformed= [my_dict[zi] for zi in validation_labels]\n",
    "validation_labels_transformed = np.array(list(validation_labels_transformed))"
   ]
  },
  {
   "cell_type": "code",
   "execution_count": 15,
   "metadata": {},
   "outputs": [
    {
     "name": "stdout",
     "output_type": "stream",
     "text": [
      "[1 1 1 2 3 2 1 1 1 3]\n",
      "['A' 'A' 'A' 'B' 'C' 'B' 'A' 'A' 'A' 'C']\n",
      "<class 'numpy.ndarray'>\n",
      "(94,)\n",
      "[2 1 1 1 1 1 1 2 3 1 1 2 2 1 2 3 1 2 2 3 1 3 2 2 1 2 2 1 3 3 2 1 1 3 2 2 1\n",
      " 1 2 2 1 1 2 1 2 3 3 1 3 1 1 2 1 1 1 2 2 2 2 2 2 1 1 1 2 2 2 1 2 1 2 1 2 1\n",
      " 1 3 1 3 1 3 2 2 2 2 1 2 1 1 2 3 1 2 1 1]\n"
     ]
    }
   ],
   "source": [
    "print(validation_labels_transformed[:10])\n",
    "print(validation_labels[:10])\n",
    "\n",
    "print(type(y_test_transformed))\n",
    "print(y_test_transformed.shape)\n",
    "\n",
    "print(y_test_transformed)"
   ]
  },
  {
   "cell_type": "code",
   "execution_count": 16,
   "metadata": {},
   "outputs": [],
   "source": [
    "dataset_size = len(training_imags_divided)\n",
    "training_imags_divided = training_imags_divided.reshape(dataset_size,-1)\n",
    "\n",
    "dataset_size = len(testing_images_divided)\n",
    "testing_images_divided = testing_images_divided.reshape(dataset_size,-1)"
   ]
  },
  {
   "cell_type": "code",
   "execution_count": null,
   "metadata": {},
   "outputs": [],
   "source": []
  },
  {
   "cell_type": "code",
   "execution_count": 17,
   "metadata": {},
   "outputs": [
    {
     "data": {
      "text/plain": [
       "KNeighborsClassifier(n_neighbors=3)"
      ]
     },
     "execution_count": 17,
     "metadata": {},
     "output_type": "execute_result"
    }
   ],
   "source": [
    "from sklearn.neighbors import KNeighborsClassifier\n",
    "neigh = KNeighborsClassifier(n_neighbors=3)\n",
    "neigh.fit(training_imags_divided, y_train_transformed)"
   ]
  },
  {
   "cell_type": "code",
   "execution_count": 18,
   "metadata": {},
   "outputs": [],
   "source": [
    "# Predicted class\n",
    "Predicted=neigh.predict(testing_images_divided)"
   ]
  },
  {
   "cell_type": "code",
   "execution_count": 19,
   "metadata": {},
   "outputs": [
    {
     "name": "stdout",
     "output_type": "stream",
     "text": [
      "Accuracy: 1.00\n"
     ]
    }
   ],
   "source": [
    "Accuracy = metrics.accuracy_score(y_test_transformed, Predicted)\n",
    "print('Accuracy: {0:.2f}'.format(Accuracy))"
   ]
  },
  {
   "cell_type": "code",
   "execution_count": 20,
   "metadata": {},
   "outputs": [
    {
     "data": {
      "image/png": "[encoded data removed]",
      "text/plain": [
       "<Figure size 432x432 with 2 Axes>"
      ]
     },
     "metadata": {
      "needs_background": "light"
     },
     "output_type": "display_data"
    }
   ],
   "source": [
    "#showing the confusion matrix\n",
    "\n",
    "Confusion_Mtrx = metrics.confusion_matrix(y_test_transformed, Predicted)\n",
    "#true_positive , false_positive, false_negative, true_negative = Confusion_Mtrx.ravel()\n",
    "\n",
    "plt.figure(figsize=(6,6))\n",
    "sns.heatmap(Confusion_Mtrx, annot=True, fmt=\".0f\");\n",
    "plt.ylabel('Real Value');\n",
    "plt.xlabel('Predicted Values');\n",
    "plt.title('Accuracy {0:.2f}'.format(Accuracy));\n"
   ]
  },
  {
   "cell_type": "code",
   "execution_count": null,
   "metadata": {},
   "outputs": [],
   "source": []
  },
  {
   "cell_type": "code",
   "execution_count": null,
   "metadata": {},
   "outputs": [],
   "source": []
  }
 ],
 "metadata": {
  "kernelspec": {
   "display_name": "Python 3",
   "language": "python",
   "name": "python3"
  },
  "language_info": {
   "codemirror_mode": {
    "name": "ipython",
    "version": 3
   },
   "file_extension": ".py",
   "mimetype": "text/x-python",
   "name": "python",
   "nbconvert_exporter": "python",
   "pygments_lexer": "ipython3",
   "version": "3.8.3"
  }
 },
 "nbformat": 4,
 "nbformat_minor": 4
}
