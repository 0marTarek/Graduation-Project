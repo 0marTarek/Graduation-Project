{
 "cells": [
  {
   "cell_type": "code",
   "execution_count": 1,
   "id": "above-testing",
   "metadata": {},
   "outputs": [],
   "source": [
    "import cv2\n",
    "import numpy as np \n",
    "from glob import glob\n",
    "import os\n",
    "from itertools import chain\n",
    "from sklearn.model_selection import train_test_split"
   ]
  },
  {
   "cell_type": "code",
   "execution_count": 2,
   "id": "naked-persian",
   "metadata": {},
   "outputs": [],
   "source": [
    "def get_images_from_path (images_path):\n",
    "    '''\n",
    "    Take   : Path of images and read all images using cv2\n",
    "    return : List of images\n",
    "    '''\n",
    "    all_images = glob(os.path.join(images_path,'*.jpg'))\n",
    "    pictures = []\n",
    "    for image in all_images:\n",
    "        picture = cv2.imread(image) \n",
    "        picture = np.array(picture)\n",
    "        pictures.append(picture)\n",
    "    return pictures "
   ]
  },
  {
   "cell_type": "code",
   "execution_count": 3,
   "id": "minus-interference",
   "metadata": {},
   "outputs": [],
   "source": [
    "def Prepare_for_model(images):\n",
    "    '''\n",
    "    Take   : List of images (The return of get_images_from_path fn)\n",
    "    Return : List of images after resizing it and put it in array form\n",
    "    '''\n",
    "    temp=[]\n",
    "    for img in images:\n",
    "        img = cv2.resize(img, dsize=(125,125))\n",
    "        img = np.array(img, dtype=np.float32)\n",
    "        temp.append(img)\n",
    "    Prepared_images = np.array(list(temp))\n",
    "    return Prepared_images"
   ]
  },
  {
   "cell_type": "code",
   "execution_count": 4,
   "id": "robust-athens",
   "metadata": {},
   "outputs": [],
   "source": [
    "def Normalize(images):\n",
    "    '''\n",
    "    Take   : List of images (The return of Prepare_for_splitting fn)\n",
    "    return : List of images after normalizing\n",
    "    '''\n",
    "    return images / 255"
   ]
  },
  {
   "cell_type": "code",
   "execution_count": 5,
   "id": "biblical-disorder",
   "metadata": {},
   "outputs": [],
   "source": [
    "def Reshape(images):\n",
    "    '''\n",
    "    Take   : List of images (The return of Normalize fn)\n",
    "    return : List of images after Reshaping\n",
    "    '''\n",
    "    dataset_size = len(images)\n",
    "    return images.reshape(dataset_size , -1)"
   ]
  },
  {
   "cell_type": "code",
   "execution_count": 6,
   "id": "recent-system",
   "metadata": {},
   "outputs": [],
   "source": [
    "def Prepare_labels(a_images , b_images , d_images , g_images):\n",
    "    '''\n",
    "    Take   : List of images of each class\n",
    "    return : List of labels\n",
    "    '''\n",
    "    y = [1 , 2  , 3 , 4]\n",
    "    y[0] = np.repeat(y[0] , len(a_images))\n",
    "    y[1] = np.repeat(y[1] , len(b_images))\n",
    "    y[2] = np.repeat(y[2] , len(d_images))\n",
    "    y[3] = np.repeat(y[3] , len(g_images))\n",
    "    y = [j for sub in y for j in sub]\n",
    "    y = np.array(y)\n",
    "    return y"
   ]
  },
  {
   "cell_type": "code",
   "execution_count": 7,
   "id": "loved-freeware",
   "metadata": {},
   "outputs": [],
   "source": [
    "def all_preprcessing():\n",
    "    '''\n",
    "    Take   : Nothing\n",
    "    Return : Training and testing images after resizing and normalizing (that are prepared to use in any model) and their labels\n",
    "    '''\n",
    "    a_images = get_images_from_path('F:/lvl 4/GP DataSet/Categories/A')\n",
    "    b_images = get_images_from_path('F:/lvl 4/GP DataSet/Categories/B')\n",
    "    d_images = get_images_from_path('F:/lvl 4/GP DataSet/Categories/D')\n",
    "    g_images = get_images_from_path('F:/lvl 4/GP DataSet/Categories/G')\n",
    "    \n",
    "    x = a_images + b_images + d_images + g_images\n",
    "    x = np.array(x)\n",
    "    \n",
    "    y = Prepare_labels(a_images , b_images , d_images , g_images)\n",
    "    \n",
    "    X_train, X_test, y_train, y_test = train_test_split(x , y , test_size = 0.30 , random_state = 42 , shuffle = True)\n",
    "    \n",
    "    training_data = Prepare_for_model(X_train)\n",
    "    testing_data  = Prepare_for_model(X_test)\n",
    "    \n",
    "    training_imags_divided = Normalize(training_data)\n",
    "    testing_images_divided = Normalize(testing_data)\n",
    "    \n",
    "    training_imags_divided = Reshape(training_imags_divided)\n",
    "    testing_images_divided = Reshape(testing_images_divided)\n",
    "    return training_imags_divided , y_train , testing_images_divided , y_test\n",
    "    "
   ]
  },
  {
   "cell_type": "code",
   "execution_count": 8,
   "id": "tight-boundary",
   "metadata": {},
   "outputs": [],
   "source": [
    "training_imags_divided , y_train , testing_images_divided , y_test = all_preprcessing()"
   ]
  }
 ],
 "metadata": {
  "kernelspec": {
   "display_name": "Python 3",
   "language": "python",
   "name": "python3"
  },
  "language_info": {
   "codemirror_mode": {
    "name": "ipython",
    "version": 3
   },
   "file_extension": ".py",
   "mimetype": "text/x-python",
   "name": "python",
   "nbconvert_exporter": "python",
   "pygments_lexer": "ipython3",
   "version": "3.7.10"
  }
 },
 "nbformat": 4,
 "nbformat_minor": 5
}
