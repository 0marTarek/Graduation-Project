{
 "cells": [
  {
   "cell_type": "code",
   "execution_count": 40,
   "metadata": {},
   "outputs": [],
   "source": [
    "import cv2\n",
    "import numpy as np \n",
    "from glob import glob\n",
    "import os\n",
    "from itertools import chain\n",
    "from sklearn.model_selection import train_test_split\n",
    "import matplotlib.pyplot as plt\n",
    "from sklearn import svm\n",
    "from sklearn.metrics import accuracy_score\n",
    "#%run GP Thresholding segmentation Full version(jpg).ipynb"
   ]
  },
  {
   "cell_type": "code",
   "execution_count": 23,
   "metadata": {},
   "outputs": [],
   "source": [
    "def get_images_from_path (images_path):\n",
    "    '''\n",
    "    Take   : Path of images and read all images using cv2\n",
    "    return : List of images\n",
    "    '''\n",
    "    all_images = glob(os.path.join(images_path,'*.jpg'))\n",
    "    pictures = []\n",
    "    for image in all_images:\n",
    "        picture = cv2.imread(image) \n",
    "        picture = np.array(picture)\n",
    "        pictures.append(picture)\n",
    "    return pictures"
   ]
  },
  {
   "cell_type": "code",
   "execution_count": 24,
   "metadata": {},
   "outputs": [],
   "source": [
    "def Prepare_for_model(images):\n",
    "    '''\n",
    "    Take   : List of images (The return of get_images_from_path fn)\n",
    "    Return : List of images after resizing it and put it in array form\n",
    "    '''\n",
    "    temp=[]\n",
    "    for img in images:\n",
    "        img = cv2.resize(img, dsize=(125,125))\n",
    "        img = np.array(img, dtype=np.float32)\n",
    "        temp.append(img)\n",
    "    Prepared_images = np.array(list(temp))\n",
    "    return Prepared_images"
   ]
  },
  {
   "cell_type": "code",
   "execution_count": 25,
   "metadata": {},
   "outputs": [],
   "source": [
    "def Normalize(images):\n",
    "    '''\n",
    "    Take   : List of images (The return of Prepare_for_splitting fn)\n",
    "    return : List of images after normalizing\n",
    "    '''\n",
    "    return images / 255"
   ]
  },
  {
   "cell_type": "code",
   "execution_count": 26,
   "metadata": {},
   "outputs": [],
   "source": [
    "def Reshape(images):\n",
    "    '''\n",
    "    Take   : List of images (The return of Normalize fn)\n",
    "    return : List of images after Reshaping\n",
    "    '''\n",
    "    dataset_size = len(images)\n",
    "    return images.reshape(dataset_size , -1)"
   ]
  },
  {
   "cell_type": "code",
   "execution_count": 27,
   "metadata": {},
   "outputs": [],
   "source": [
    "def Prepare_labels(a_images , b_images , d_images , g_images):\n",
    "    '''\n",
    "    Take   : List of images of each class\n",
    "    return : List of labels\n",
    "    '''\n",
    "    y = [1 , 2  , 3 , 4]\n",
    "    y[0] = np.repeat(y[0] , len(a_images))\n",
    "    y[1] = np.repeat(y[1] , len(b_images))\n",
    "    y[2] = np.repeat(y[2] , len(d_images))\n",
    "    y[3] = np.repeat(y[3] , len(g_images))\n",
    "    y = [j for sub in y for j in sub]\n",
    "    y = np.array(y)\n",
    "    return y"
   ]
  },
  {
   "cell_type": "code",
   "execution_count": 33,
   "metadata": {},
   "outputs": [],
   "source": [
    "def all_preprcessing():\n",
    "    '''\n",
    "    Take   : Nothing\n",
    "    Return : Training and testing images after resizing and normalizing (that are prepared to use in any model) and their labels\n",
    "    '''\n",
    "    a_images_train = get_images_from_path('F:/categories Train JPG/A')\n",
    "    b_images_train = get_images_from_path('F:/categories Train JPG/B')\n",
    "    d_images_train = get_images_from_path('F:/categories Train JPG/D')\n",
    "    g_images_train = get_images_from_path('F:/categories Train JPG/G')\n",
    "    \n",
    "    a_images_test = get_images_from_path('F:/categories Test JPG/A')\n",
    "    b_images_test = get_images_from_path('F:/categories Test JPG/B')\n",
    "    d_images_test = get_images_from_path('F:/categories Test JPG/D')\n",
    "    g_images_test = get_images_from_path('F:/categories Test JPG/G')\n",
    "    \n",
    "    x_train = a_images_train + b_images_train + d_images_train + g_images_train\n",
    "    x_train = np.array(x_train)\n",
    "    \n",
    "    x_test = a_images_test + b_images_test + d_images_test + g_images_test\n",
    "    x_test = np.array(x_test)\n",
    "    \n",
    "    y_train = Prepare_labels(a_images_train , b_images_train , d_images_train , g_images_train)\n",
    "    \n",
    "    y_test  = Prepare_labels(a_images_test , b_images_test , d_images_test , g_images_test)\n",
    "    \n",
    "    \n",
    "    #X_train, X_test, y_train, y_test = train_test_split(x , y , test_size = 0.30 , random_state = 42 , shuffle = True)\n",
    "    \n",
    "    training_data = Prepare_for_model(x_train)\n",
    "    testing_data  = Prepare_for_model(x_test)\n",
    "    \n",
    "    training_imags_divided = Normalize(training_data)\n",
    "    testing_images_divided = Normalize(testing_data)\n",
    "    \n",
    "    training_imags_divided = Reshape(training_imags_divided)\n",
    "    testing_images_divided = Reshape(testing_images_divided)\n",
    "    return training_imags_divided , y_train , testing_images_divided , y_test"
   ]
  },
  {
   "cell_type": "code",
   "execution_count": 34,
   "metadata": {},
   "outputs": [],
   "source": [
    "training_imags_divided , y_train , testing_images_divided , y_test = all_preprcessing()"
   ]
  },
  {
   "cell_type": "code",
   "execution_count": 35,
   "metadata": {},
   "outputs": [
    {
     "name": "stdout",
     "output_type": "stream",
     "text": [
      "(11400, 46875)\n",
      "(11400,)\n",
      "(2774, 46875)\n",
      "(2774,)\n"
     ]
    }
   ],
   "source": [
    "print(training_imags_divided.shape)\n",
    "print(y_train.shape)\n",
    "print(testing_images_divided.shape)\n",
    "print(y_test.shape)"
   ]
  },
  {
   "cell_type": "code",
   "execution_count": 37,
   "metadata": {},
   "outputs": [
    {
     "data": {
      "text/plain": [
       "SVC()"
      ]
     },
     "execution_count": 37,
     "metadata": {},
     "output_type": "execute_result"
    }
   ],
   "source": [
    "clf = svm.SVC()\n",
    "clf.fit(training_imags_divided , y_train)"
   ]
  },
  {
   "cell_type": "code",
   "execution_count": 53,
   "metadata": {},
   "outputs": [],
   "source": [
    "y_predict = clf.predict(testing_images_divided)"
   ]
  },
  {
   "cell_type": "code",
   "execution_count": 56,
   "metadata": {},
   "outputs": [
    {
     "name": "stdout",
     "output_type": "stream",
     "text": [
      "0.6023792357606345\n"
     ]
    }
   ],
   "source": [
    "print(accuracy_score(y_test , y_predict))"
   ]
  },
  {
   "cell_type": "code",
   "execution_count": 61,
   "metadata": {},
   "outputs": [
    {
     "data": {
      "image/png": "[encoded data removed]",
      "text/plain": [
       "<Figure size 576x576 with 2 Axes>"
      ]
     },
     "metadata": {
      "needs_background": "light"
     },
     "output_type": "display_data"
    }
   ],
   "source": [
    "from sklearn import metrics\n",
    "import seaborn as sns\n",
    "\n",
    "Confusion_Mtrx = metrics.confusion_matrix(y_test, y_predict)\n",
    "#true_positive , false_positive, false_negative, true_negative = Confusion_Mtrx.ravel()\n",
    "\n",
    "plt.figure(figsize=(8,8))\n",
    "sns.heatmap(Confusion_Mtrx, annot=True, fmt=\".0f\");\n",
    "plt.ylabel('Real Value');\n",
    "plt.xlabel('Predicted Values');\n",
    "plt.title('Accuracy {0:.2f}'.format(accuracy_score(y_test , y_predict)));\n"
   ]
  },
  {
   "cell_type": "code",
   "execution_count": null,
   "metadata": {},
   "outputs": [],
   "source": [
    "#A goog\n",
    "#b preprocessing\n",
    "#d more training examples \n",
    "#G may be preprocessing \n"
   ]
  }
 ],
 "metadata": {
  "kernelspec": {
   "display_name": "Python 3",
   "language": "python",
   "name": "python3"
  },
  "language_info": {
   "codemirror_mode": {
    "name": "ipython",
    "version": 3
   },
   "file_extension": ".py",
   "mimetype": "text/x-python",
   "name": "python",
   "nbconvert_exporter": "python",
   "pygments_lexer": "ipython3",
   "version": "3.8.3"
  }
 },
 "nbformat": 4,
 "nbformat_minor": 4
}
